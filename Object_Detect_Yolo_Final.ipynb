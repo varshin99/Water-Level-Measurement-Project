{
  "nbformat": 4,
  "nbformat_minor": 0,
  "metadata": {
    "colab": {
      "provenance": []
    },
    "kernelspec": {
      "name": "python3",
      "display_name": "Python 3"
    },
    "language_info": {
      "name": "python"
    }
  },
  "cells": [
    {
      "cell_type": "code",
      "execution_count": null,
      "metadata": {
        "id": "-nDaqbGTokww"
      },
      "outputs": [],
      "source": [
        "!pip install --upgrade ultralytics -q\n",
        "!pip install roboflow -q"
      ]
    },
    {
      "cell_type": "code",
      "source": [
        "#Importing Libraries\n",
        "import cv2\n",
        "import numpy as np\n",
        "from google.colab.patches import cv2_imshow\n",
        "from roboflow import Roboflow\n",
        "from IPython.display import Image, clear_output\n",
        "from ultralytics import YOLO\n",
        "import os\n",
        "import torch"
      ],
      "metadata": {
        "id": "5_Kjb18sonJV"
      },
      "execution_count": null,
      "outputs": []
    },
    {
      "cell_type": "code",
      "source": [
        "from google.colab import drive\n",
        "drive.mount('/content/drive')"
      ],
      "metadata": {
        "id": "Q5_q96-Fs3YF"
      },
      "execution_count": null,
      "outputs": []
    },
    {
      "cell_type": "markdown",
      "source": [
        "**Object Segmentation With Water**"
      ],
      "metadata": {
        "id": "f3SVeMhdoxOZ"
      }
    },
    {
      "cell_type": "code",
      "source": [
        "# Initialize Roboflow and download the dataset\n",
        "rf = Roboflow(api_key=\"cY2YZlXNZGwP1vE1sUMe\")\n",
        "project = rf.workspace(\"dummy-2qhux\").project(\"pinewood_finals\")\n",
        "version = project.version(1)\n",
        "dataset = version.download(\"yolov11\")\n",
        "\n",
        "# Train the YOLO model\n",
        "model = YOLO(\"yolo11n-seg.pt\")\n",
        "model.train(\n",
        "    data=\"/content/pinewood_finals-1/data.yaml\",  # Path to dataset YAML\n",
        "    epochs=60,  # Number of training epochs\n",
        "    imgsz=1024,  # Training image size\n",
        "    device=0  # Device to run on, e.g., GPU index\n",
        ")\n",
        "\n",
        "# Load the trained model\n",
        "model = YOLO('/content/runs/segment/train/weights/best.pt')\n",
        "\n",
        "# Set up paths for input and output\n",
        "input_folder = '/content/drive/My Drive/IMAGES_PREDICT'\n",
        "output_folder = '/content/drive/My Drive/IMAGES_RESULTS_MASKED_IMAGE_WITH_WATER'\n",
        "os.makedirs(output_folder, exist_ok=True)\n",
        "\n",
        "# Process and mask images\n",
        "for image_name in filter(lambda x: x.lower().endswith(('.png', '.jpg', '.jpeg')), os.listdir(input_folder)):\n",
        "    image_path = os.path.join(input_folder, image_name)\n",
        "    img = cv2.imread(image_path)\n",
        "\n",
        "    # Run the model on the image\n",
        "    results = model(image_path)\n",
        "    mask_data = results[0].masks.cpu().numpy()\n",
        "\n",
        "    # Create a binary mask\n",
        "    mask = np.zeros((img.shape[0], img.shape[1]), dtype=np.uint8)\n",
        "    for contour in results[0].masks.xy:\n",
        "        cv2.drawContours(mask, [contour.astype(np.int32)], -1, (255), cv2.FILLED)\n",
        "\n",
        "    # Apply the mask to the image\n",
        "    mask_3d = cv2.cvtColor(mask, cv2.COLOR_GRAY2BGR)\n",
        "    isolated = cv2.bitwise_and(img, mask_3d)\n",
        "\n",
        "    # Save the result\n",
        "    output_path = os.path.join(output_folder, image_name)\n",
        "    cv2.imwrite(output_path, isolated)\n",
        "    print(f\"Processed and saved: {output_path}\")"
      ],
      "metadata": {
        "id": "0mqVu0aWoonc"
      },
      "execution_count": null,
      "outputs": []
    },
    {
      "cell_type": "markdown",
      "source": [
        "**Object Segmentation Without Water**"
      ],
      "metadata": {
        "id": "9gEFwTGjp0Dx"
      }
    },
    {
      "cell_type": "code",
      "source": [
        "# Initialize Roboflow and download the dataset\n",
        "rf = Roboflow(api_key=\"cY2YZlXNZGwP1vE1sUMe\")\n",
        "project = rf.workspace(\"dummy-2qhux\").project(\"pinewood_final_without_water\")\n",
        "version = project.version(1)\n",
        "dataset = version.download(\"yolov11\")\n",
        "\n",
        "# Train the YOLO model\n",
        "model = YOLO(\"yolo11n-seg.pt\")\n",
        "model.train(\n",
        "    data=\"/content/pinewood_final_without_water-1/data.yaml\",\n",
        "    epochs=60,\n",
        "    imgsz=1024,\n",
        "    device=0,\n",
        ")\n",
        "\n",
        "# Load the trained model\n",
        "model = YOLO('/content/runs/segment/train/weights/best.pt')\n",
        "\n",
        "# Set up paths for input and output\n",
        "input_folder = '/content/drive/My Drive/IMAGES_PREDICT'\n",
        "output_folder = '/content/drive/My Drive/IMAGES_RESULTS_MASKED_IMAGE_WITHOUT_WATER'\n",
        "os.makedirs(output_folder, exist_ok=True)\n",
        "\n",
        "# Process and mask images\n",
        "for image_name in filter(lambda x: x.lower().endswith(('.png', '.jpg', '.jpeg')), os.listdir(input_folder)):\n",
        "    image_path = os.path.join(input_folder, image_name)\n",
        "    img = cv2.imread(image_path)\n",
        "\n",
        "    # Run the model on the image\n",
        "    results = model(image_path)\n",
        "    mask_data = results[0].masks.cpu().numpy()\n",
        "\n",
        "    # Create a binary mask\n",
        "    mask = np.zeros((img.shape[0], img.shape[1]), dtype=np.uint8)\n",
        "    for contour in results[0].masks.xy:\n",
        "        cv2.drawContours(mask, [contour.astype(np.int32)], -1, (255), cv2.FILLED)\n",
        "\n",
        "    # Apply the mask to the image\n",
        "    mask_3d = cv2.cvtColor(mask, cv2.COLOR_GRAY2BGR)\n",
        "    isolated = cv2.bitwise_and(img, mask_3d)\n",
        "\n",
        "    # Save the result\n",
        "    output_path = os.path.join(output_folder, image_name)\n",
        "    cv2.imwrite(output_path, isolated)\n",
        "    print(f\"Processed and saved: {output_path}\")\n",
        "    print(f\"Processed and saved: {output_path}\")"
      ],
      "metadata": {
        "id": "tl--QxRrpx8S"
      },
      "execution_count": null,
      "outputs": []
    }
  ]
}